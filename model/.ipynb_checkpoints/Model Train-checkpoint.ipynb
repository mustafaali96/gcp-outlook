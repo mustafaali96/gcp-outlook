{
 "cells": [
  {
   "cell_type": "code",
   "execution_count": 144,
   "id": "a5c4c060",
   "metadata": {},
   "outputs": [],
   "source": [
    "import pandas as pd"
   ]
  },
  {
   "cell_type": "code",
   "execution_count": 145,
   "id": "53035c2d",
   "metadata": {},
   "outputs": [],
   "source": [
    "data = pd.read_csv(\"CVData.csv\")"
   ]
  },
  {
   "cell_type": "code",
   "execution_count": 146,
   "id": "aae7d91f",
   "metadata": {},
   "outputs": [
    {
     "data": {
      "text/html": [
       "<div>\n",
       "<style scoped>\n",
       "    .dataframe tbody tr th:only-of-type {\n",
       "        vertical-align: middle;\n",
       "    }\n",
       "\n",
       "    .dataframe tbody tr th {\n",
       "        vertical-align: top;\n",
       "    }\n",
       "\n",
       "    .dataframe thead th {\n",
       "        text-align: right;\n",
       "    }\n",
       "</style>\n",
       "<table border=\"1\" class=\"dataframe\">\n",
       "  <thead>\n",
       "    <tr style=\"text-align: right;\">\n",
       "      <th></th>\n",
       "      <th>Name</th>\n",
       "      <th>Years of Experience</th>\n",
       "      <th>Expertise</th>\n",
       "      <th>Other Expertise</th>\n",
       "      <th>Education</th>\n",
       "      <th>Level</th>\n",
       "      <th>Score</th>\n",
       "    </tr>\n",
       "  </thead>\n",
       "  <tbody>\n",
       "    <tr>\n",
       "      <th>0</th>\n",
       "      <td>Gurdeep Singh</td>\n",
       "      <td>19.0</td>\n",
       "      <td>Front End Developer</td>\n",
       "      <td>NumPy, Python, Javascript, Django, Selinium, P...</td>\n",
       "      <td>Bachelors</td>\n",
       "      <td>Fresh</td>\n",
       "      <td>0.2</td>\n",
       "    </tr>\n",
       "    <tr>\n",
       "      <th>1</th>\n",
       "      <td>Muhammad Ehtisham</td>\n",
       "      <td>18.0</td>\n",
       "      <td>Import Manager</td>\n",
       "      <td>Shipping and Logistics</td>\n",
       "      <td>Bachelors</td>\n",
       "      <td>Fresh</td>\n",
       "      <td>0.5</td>\n",
       "    </tr>\n",
       "    <tr>\n",
       "      <th>2</th>\n",
       "      <td>Syed Hussain</td>\n",
       "      <td>18.0</td>\n",
       "      <td>Assistant Admin</td>\n",
       "      <td>Sales Coordinator, Audit Trainee</td>\n",
       "      <td>Bachelors</td>\n",
       "      <td>Fresh</td>\n",
       "      <td>0.5</td>\n",
       "    </tr>\n",
       "    <tr>\n",
       "      <th>3</th>\n",
       "      <td>Muhammad Ehtisham</td>\n",
       "      <td>18.0</td>\n",
       "      <td>Import Manager</td>\n",
       "      <td>Shipping and Logistics</td>\n",
       "      <td>Bachelors</td>\n",
       "      <td>Senior</td>\n",
       "      <td>1.0</td>\n",
       "    </tr>\n",
       "    <tr>\n",
       "      <th>4</th>\n",
       "      <td>Syed Hussain</td>\n",
       "      <td>18.0</td>\n",
       "      <td>Assistant Admin</td>\n",
       "      <td>Sales Coordinator, Audit Trainee</td>\n",
       "      <td>Bachelors</td>\n",
       "      <td>Senior</td>\n",
       "      <td>1.0</td>\n",
       "    </tr>\n",
       "  </tbody>\n",
       "</table>\n",
       "</div>"
      ],
      "text/plain": [
       "                Name  Years of Experience             Expertise  \\\n",
       "0      Gurdeep Singh                  19.0  Front End Developer   \n",
       "1  Muhammad Ehtisham                  18.0       Import Manager   \n",
       "2       Syed Hussain                  18.0      Assistant Admin   \n",
       "3  Muhammad Ehtisham                  18.0       Import Manager   \n",
       "4       Syed Hussain                  18.0      Assistant Admin   \n",
       "\n",
       "                                     Other Expertise  Education   Level  Score  \n",
       "0  NumPy, Python, Javascript, Django, Selinium, P...  Bachelors   Fresh    0.2  \n",
       "1                             Shipping and Logistics  Bachelors   Fresh    0.5  \n",
       "2                   Sales Coordinator, Audit Trainee  Bachelors   Fresh    0.5  \n",
       "3                             Shipping and Logistics  Bachelors  Senior    1.0  \n",
       "4                   Sales Coordinator, Audit Trainee  Bachelors  Senior    1.0  "
      ]
     },
     "execution_count": 146,
     "metadata": {},
     "output_type": "execute_result"
    }
   ],
   "source": [
    "data.head()"
   ]
  },
  {
   "cell_type": "code",
   "execution_count": 147,
   "id": "7dcf88c7",
   "metadata": {},
   "outputs": [
    {
     "name": "stdout",
     "output_type": "stream",
     "text": [
      "Level      Expert  Fresh  Internship  Mid  Senior   All\n",
      "Education                                              \n",
      "Bachelors     117    117         117  117     117   585\n",
      "Masters        25     25          25   25      29   129\n",
      "PhD             2      2           2    2       2    10\n",
      "Undergrad      65     65          65   65      65   325\n",
      "All           209    209         209  209     213  1049\n"
     ]
    }
   ],
   "source": [
    "cross_tab = pd.crosstab(data['Education'],data['Level'],margins=True)\n",
    "print(cross_tab)"
   ]
  },
  {
   "cell_type": "code",
   "execution_count": 148,
   "id": "b64b43f3",
   "metadata": {},
   "outputs": [
    {
     "data": {
      "text/plain": [
       "array(['Bachelors', 'Masters', 'PhD', 'Undergrad'], dtype=object)"
      ]
     },
     "execution_count": 148,
     "metadata": {},
     "output_type": "execute_result"
    }
   ],
   "source": [
    "data['Education'].unique()"
   ]
  },
  {
   "cell_type": "code",
   "execution_count": 149,
   "id": "003008af",
   "metadata": {},
   "outputs": [
    {
     "data": {
      "text/plain": [
       "array(['Fresh', 'Senior', 'Internship', 'Expert', 'Mid'], dtype=object)"
      ]
     },
     "execution_count": 149,
     "metadata": {},
     "output_type": "execute_result"
    }
   ],
   "source": [
    "data['Level'].unique()"
   ]
  },
  {
   "cell_type": "code",
   "execution_count": 150,
   "id": "2d841543",
   "metadata": {},
   "outputs": [
    {
     "data": {
      "text/plain": [
       "Education  Level     \n",
       "Bachelors  Expert         5.063675\n",
       "           Fresh          6.991453\n",
       "           Internship     3.924786\n",
       "           Mid            7.481624\n",
       "           Senior         5.152137\n",
       "Masters    Expert         6.122000\n",
       "           Fresh          6.500000\n",
       "           Internship     4.360000\n",
       "           Mid            7.516000\n",
       "           Senior         6.451724\n",
       "PhD        Expert        11.250000\n",
       "           Fresh          0.450000\n",
       "           Internship     0.250000\n",
       "           Mid            1.250000\n",
       "           Senior         2.500000\n",
       "Undergrad  Expert         2.359231\n",
       "           Fresh          7.200000\n",
       "           Internship     5.515385\n",
       "           Mid            4.450615\n",
       "           Senior         3.001538\n",
       "Name: Score, dtype: float64"
      ]
     },
     "execution_count": 150,
     "metadata": {},
     "output_type": "execute_result"
    }
   ],
   "source": [
    "df = data.groupby(['Education','Level'])['Score'].mean()\n",
    "df"
   ]
  },
  {
   "cell_type": "code",
   "execution_count": 151,
   "id": "3524fe0b",
   "metadata": {},
   "outputs": [
    {
     "data": {
      "text/plain": [
       "Name                      0\n",
       "Years of Experience       0\n",
       "Expertise                 0\n",
       "Other Expertise         257\n",
       "Education                 0\n",
       "Level                     0\n",
       "Score                     0\n",
       "dtype: int64"
      ]
     },
     "execution_count": 151,
     "metadata": {},
     "output_type": "execute_result"
    }
   ],
   "source": [
    "data.apply(lambda x : x.isnull().sum())"
   ]
  },
  {
   "cell_type": "markdown",
   "id": "fe0a605f",
   "metadata": {},
   "source": [
    "257 applicants don't have other experties"
   ]
  },
  {
   "cell_type": "code",
   "execution_count": 152,
   "id": "5a51fc67",
   "metadata": {},
   "outputs": [
    {
     "data": {
      "text/html": [
       "<div>\n",
       "<style scoped>\n",
       "    .dataframe tbody tr th:only-of-type {\n",
       "        vertical-align: middle;\n",
       "    }\n",
       "\n",
       "    .dataframe tbody tr th {\n",
       "        vertical-align: top;\n",
       "    }\n",
       "\n",
       "    .dataframe thead th {\n",
       "        text-align: right;\n",
       "    }\n",
       "</style>\n",
       "<table border=\"1\" class=\"dataframe\">\n",
       "  <thead>\n",
       "    <tr style=\"text-align: right;\">\n",
       "      <th></th>\n",
       "      <th>Name</th>\n",
       "      <th>Years of Experience</th>\n",
       "      <th>Expertise</th>\n",
       "      <th>Other Expertise</th>\n",
       "      <th>Education</th>\n",
       "      <th>Level</th>\n",
       "      <th>Score</th>\n",
       "    </tr>\n",
       "  </thead>\n",
       "  <tbody>\n",
       "    <tr>\n",
       "      <th>6</th>\n",
       "      <td>Muhammad Raza</td>\n",
       "      <td>17.0</td>\n",
       "      <td>Assistant Hardware Engineer</td>\n",
       "      <td>NaN</td>\n",
       "      <td>Bachelors</td>\n",
       "      <td>Senior</td>\n",
       "      <td>1.0</td>\n",
       "    </tr>\n",
       "    <tr>\n",
       "      <th>8</th>\n",
       "      <td>Muhammad Raza</td>\n",
       "      <td>17.0</td>\n",
       "      <td>Assistant Hardware Engineer</td>\n",
       "      <td>NaN</td>\n",
       "      <td>Bachelors</td>\n",
       "      <td>Fresh</td>\n",
       "      <td>1.0</td>\n",
       "    </tr>\n",
       "    <tr>\n",
       "      <th>9</th>\n",
       "      <td>Muhammad Sohaib</td>\n",
       "      <td>0.0</td>\n",
       "      <td>Accounts &amp; Finance</td>\n",
       "      <td>NaN</td>\n",
       "      <td>Bachelors</td>\n",
       "      <td>Expert</td>\n",
       "      <td>1.0</td>\n",
       "    </tr>\n",
       "    <tr>\n",
       "      <th>10</th>\n",
       "      <td>Nafees Sarwar</td>\n",
       "      <td>0.0</td>\n",
       "      <td>Accounts &amp; Finance</td>\n",
       "      <td>NaN</td>\n",
       "      <td>Bachelors</td>\n",
       "      <td>Expert</td>\n",
       "      <td>1.0</td>\n",
       "    </tr>\n",
       "    <tr>\n",
       "      <th>11</th>\n",
       "      <td>Ehtesham Ul Haque</td>\n",
       "      <td>0.0</td>\n",
       "      <td>Finance</td>\n",
       "      <td>NaN</td>\n",
       "      <td>Bachelors</td>\n",
       "      <td>Expert</td>\n",
       "      <td>1.0</td>\n",
       "    </tr>\n",
       "  </tbody>\n",
       "</table>\n",
       "</div>"
      ],
      "text/plain": [
       "                 Name  Years of Experience                     Expertise  \\\n",
       "6       Muhammad Raza                  17.0  Assistant Hardware Engineer   \n",
       "8       Muhammad Raza                  17.0  Assistant Hardware Engineer   \n",
       "9    Muhammad Sohaib                    0.0           Accounts & Finance   \n",
       "10      Nafees Sarwar                   0.0          Accounts & Finance    \n",
       "11  Ehtesham Ul Haque                   0.0                      Finance   \n",
       "\n",
       "   Other Expertise  Education   Level  Score  \n",
       "6              NaN  Bachelors  Senior    1.0  \n",
       "8              NaN  Bachelors   Fresh    1.0  \n",
       "9              NaN  Bachelors  Expert    1.0  \n",
       "10             NaN  Bachelors  Expert    1.0  \n",
       "11             NaN  Bachelors  Expert    1.0  "
      ]
     },
     "execution_count": 152,
     "metadata": {},
     "output_type": "execute_result"
    }
   ],
   "source": [
    "null_df = data.loc[data['Other Expertise'].isnull()==True]\n",
    "null_df.head()"
   ]
  },
  {
   "cell_type": "code",
   "execution_count": 153,
   "id": "a15ebbc5",
   "metadata": {},
   "outputs": [],
   "source": [
    "# Fill Null values with 0\n",
    "\n",
    "data['Other Expertise'].fillna(0,inplace=True)"
   ]
  },
  {
   "cell_type": "code",
   "execution_count": 154,
   "id": "5b867a25",
   "metadata": {},
   "outputs": [
    {
     "data": {
      "text/plain": [
       "Name                    0\n",
       "Years of Experience     0\n",
       "Expertise               0\n",
       "Other Expertise         0\n",
       "Education               0\n",
       "Level                   0\n",
       "Score                   0\n",
       "dtype: int64"
      ]
     },
     "execution_count": 154,
     "metadata": {},
     "output_type": "execute_result"
    }
   ],
   "source": [
    "# check if null values are filled\n",
    "data.apply(lambda x : x.isnull().sum())"
   ]
  },
  {
   "cell_type": "code",
   "execution_count": 155,
   "id": "41157b13",
   "metadata": {},
   "outputs": [],
   "source": [
    "data[\"Education\"].replace({\"Undergrad\":0, \"Bachelors\":1, \"Masters\":2, \"PhD\":3,}, inplace=True)"
   ]
  },
  {
   "cell_type": "code",
   "execution_count": 156,
   "id": "414bb2ce",
   "metadata": {},
   "outputs": [
    {
     "data": {
      "text/plain": [
       "array([1, 2, 3, 0], dtype=int64)"
      ]
     },
     "execution_count": 156,
     "metadata": {},
     "output_type": "execute_result"
    }
   ],
   "source": [
    "data[\"Education\"].unique()"
   ]
  },
  {
   "cell_type": "code",
   "execution_count": 157,
   "id": "8cc0c68f",
   "metadata": {},
   "outputs": [],
   "source": [
    "data[\"Level\"].replace({\"Internship\":0, \"Fresh\":1, \"Mid\":2, \"Senior\":3, \"Expert\":4,}, inplace=True)"
   ]
  },
  {
   "cell_type": "code",
   "execution_count": 158,
   "id": "a85c3416",
   "metadata": {},
   "outputs": [
    {
     "data": {
      "text/plain": [
       "array([1, 3, 0, 4, 2], dtype=int64)"
      ]
     },
     "execution_count": 158,
     "metadata": {},
     "output_type": "execute_result"
    }
   ],
   "source": [
    "data['Level'].unique()"
   ]
  },
  {
   "cell_type": "code",
   "execution_count": 159,
   "id": "7c15728f",
   "metadata": {},
   "outputs": [
    {
     "data": {
      "text/html": [
       "<div>\n",
       "<style scoped>\n",
       "    .dataframe tbody tr th:only-of-type {\n",
       "        vertical-align: middle;\n",
       "    }\n",
       "\n",
       "    .dataframe tbody tr th {\n",
       "        vertical-align: top;\n",
       "    }\n",
       "\n",
       "    .dataframe thead th {\n",
       "        text-align: right;\n",
       "    }\n",
       "</style>\n",
       "<table border=\"1\" class=\"dataframe\">\n",
       "  <thead>\n",
       "    <tr style=\"text-align: right;\">\n",
       "      <th></th>\n",
       "      <th>Name</th>\n",
       "      <th>Years of Experience</th>\n",
       "      <th>Expertise</th>\n",
       "      <th>Other Expertise</th>\n",
       "      <th>Education</th>\n",
       "      <th>Level</th>\n",
       "      <th>Score</th>\n",
       "    </tr>\n",
       "  </thead>\n",
       "  <tbody>\n",
       "    <tr>\n",
       "      <th>0</th>\n",
       "      <td>Gurdeep Singh</td>\n",
       "      <td>19.0</td>\n",
       "      <td>Front End Developer</td>\n",
       "      <td>NumPy, Python, Javascript, Django, Selinium, P...</td>\n",
       "      <td>1</td>\n",
       "      <td>1</td>\n",
       "      <td>0.2</td>\n",
       "    </tr>\n",
       "    <tr>\n",
       "      <th>1</th>\n",
       "      <td>Muhammad Ehtisham</td>\n",
       "      <td>18.0</td>\n",
       "      <td>Import Manager</td>\n",
       "      <td>Shipping and Logistics</td>\n",
       "      <td>1</td>\n",
       "      <td>1</td>\n",
       "      <td>0.5</td>\n",
       "    </tr>\n",
       "    <tr>\n",
       "      <th>2</th>\n",
       "      <td>Syed Hussain</td>\n",
       "      <td>18.0</td>\n",
       "      <td>Assistant Admin</td>\n",
       "      <td>Sales Coordinator, Audit Trainee</td>\n",
       "      <td>1</td>\n",
       "      <td>1</td>\n",
       "      <td>0.5</td>\n",
       "    </tr>\n",
       "    <tr>\n",
       "      <th>3</th>\n",
       "      <td>Muhammad Ehtisham</td>\n",
       "      <td>18.0</td>\n",
       "      <td>Import Manager</td>\n",
       "      <td>Shipping and Logistics</td>\n",
       "      <td>1</td>\n",
       "      <td>3</td>\n",
       "      <td>1.0</td>\n",
       "    </tr>\n",
       "    <tr>\n",
       "      <th>4</th>\n",
       "      <td>Syed Hussain</td>\n",
       "      <td>18.0</td>\n",
       "      <td>Assistant Admin</td>\n",
       "      <td>Sales Coordinator, Audit Trainee</td>\n",
       "      <td>1</td>\n",
       "      <td>3</td>\n",
       "      <td>1.0</td>\n",
       "    </tr>\n",
       "    <tr>\n",
       "      <th>...</th>\n",
       "      <td>...</td>\n",
       "      <td>...</td>\n",
       "      <td>...</td>\n",
       "      <td>...</td>\n",
       "      <td>...</td>\n",
       "      <td>...</td>\n",
       "      <td>...</td>\n",
       "    </tr>\n",
       "    <tr>\n",
       "      <th>1044</th>\n",
       "      <td>Mirza Adil</td>\n",
       "      <td>1.0</td>\n",
       "      <td>Vanilla JS, Node JS, React JS, Java</td>\n",
       "      <td>SQL, CSS, HTML</td>\n",
       "      <td>0</td>\n",
       "      <td>0</td>\n",
       "      <td>9.9</td>\n",
       "    </tr>\n",
       "    <tr>\n",
       "      <th>1045</th>\n",
       "      <td>Muhammad Yaseen</td>\n",
       "      <td>0.9</td>\n",
       "      <td>E-commerce Digital Marketing</td>\n",
       "      <td>SEO</td>\n",
       "      <td>0</td>\n",
       "      <td>0</td>\n",
       "      <td>9.9</td>\n",
       "    </tr>\n",
       "    <tr>\n",
       "      <th>1046</th>\n",
       "      <td>Maaz Hussain Siddiqui</td>\n",
       "      <td>1.0</td>\n",
       "      <td>Application Developer</td>\n",
       "      <td>Javascript, PHP, MongoDB, ANdroid, SDK, Flutte...</td>\n",
       "      <td>0</td>\n",
       "      <td>0</td>\n",
       "      <td>10.0</td>\n",
       "    </tr>\n",
       "    <tr>\n",
       "      <th>1047</th>\n",
       "      <td>HashamUddin</td>\n",
       "      <td>1.0</td>\n",
       "      <td>Web Developer</td>\n",
       "      <td>HTML5, CSS, Javascript, Django</td>\n",
       "      <td>0</td>\n",
       "      <td>0</td>\n",
       "      <td>10.0</td>\n",
       "    </tr>\n",
       "    <tr>\n",
       "      <th>1048</th>\n",
       "      <td>Sumaira Rafique</td>\n",
       "      <td>1.0</td>\n",
       "      <td>Front End Developer</td>\n",
       "      <td>CSS3, HTML5, Javascript, Java, PHP, TypeScript</td>\n",
       "      <td>0</td>\n",
       "      <td>0</td>\n",
       "      <td>10.0</td>\n",
       "    </tr>\n",
       "  </tbody>\n",
       "</table>\n",
       "<p>1049 rows × 7 columns</p>\n",
       "</div>"
      ],
      "text/plain": [
       "                       Name  Years of Experience   \\\n",
       "0             Gurdeep Singh                  19.0   \n",
       "1         Muhammad Ehtisham                  18.0   \n",
       "2              Syed Hussain                  18.0   \n",
       "3         Muhammad Ehtisham                  18.0   \n",
       "4              Syed Hussain                  18.0   \n",
       "...                     ...                   ...   \n",
       "1044             Mirza Adil                   1.0   \n",
       "1045       Muhammad Yaseen                    0.9   \n",
       "1046  Maaz Hussain Siddiqui                   1.0   \n",
       "1047            HashamUddin                   1.0   \n",
       "1048        Sumaira Rafique                   1.0   \n",
       "\n",
       "                                Expertise  \\\n",
       "0                     Front End Developer   \n",
       "1                          Import Manager   \n",
       "2                         Assistant Admin   \n",
       "3                          Import Manager   \n",
       "4                         Assistant Admin   \n",
       "...                                   ...   \n",
       "1044  Vanilla JS, Node JS, React JS, Java   \n",
       "1045         E-commerce Digital Marketing   \n",
       "1046                Application Developer   \n",
       "1047                        Web Developer   \n",
       "1048                  Front End Developer   \n",
       "\n",
       "                                        Other Expertise  Education  Level  \\\n",
       "0     NumPy, Python, Javascript, Django, Selinium, P...          1      1   \n",
       "1                                Shipping and Logistics          1      1   \n",
       "2                      Sales Coordinator, Audit Trainee          1      1   \n",
       "3                                Shipping and Logistics          1      3   \n",
       "4                      Sales Coordinator, Audit Trainee          1      3   \n",
       "...                                                 ...        ...    ...   \n",
       "1044                                     SQL, CSS, HTML          0      0   \n",
       "1045                                                SEO          0      0   \n",
       "1046  Javascript, PHP, MongoDB, ANdroid, SDK, Flutte...          0      0   \n",
       "1047                     HTML5, CSS, Javascript, Django          0      0   \n",
       "1048     CSS3, HTML5, Javascript, Java, PHP, TypeScript          0      0   \n",
       "\n",
       "      Score  \n",
       "0       0.2  \n",
       "1       0.5  \n",
       "2       0.5  \n",
       "3       1.0  \n",
       "4       1.0  \n",
       "...     ...  \n",
       "1044    9.9  \n",
       "1045    9.9  \n",
       "1046   10.0  \n",
       "1047   10.0  \n",
       "1048   10.0  \n",
       "\n",
       "[1049 rows x 7 columns]"
      ]
     },
     "execution_count": 159,
     "metadata": {},
     "output_type": "execute_result"
    }
   ],
   "source": [
    "data"
   ]
  },
  {
   "cell_type": "code",
   "execution_count": 160,
   "id": "c882b766",
   "metadata": {},
   "outputs": [],
   "source": [
    "data[\"All_Experties\"] = data[\"Expertise\"].astype(str) + \",\" + data[\"Other Expertise\"].astype(str)"
   ]
  },
  {
   "cell_type": "code",
   "execution_count": 161,
   "id": "3ac416ab",
   "metadata": {},
   "outputs": [
    {
     "data": {
      "text/html": [
       "<div>\n",
       "<style scoped>\n",
       "    .dataframe tbody tr th:only-of-type {\n",
       "        vertical-align: middle;\n",
       "    }\n",
       "\n",
       "    .dataframe tbody tr th {\n",
       "        vertical-align: top;\n",
       "    }\n",
       "\n",
       "    .dataframe thead th {\n",
       "        text-align: right;\n",
       "    }\n",
       "</style>\n",
       "<table border=\"1\" class=\"dataframe\">\n",
       "  <thead>\n",
       "    <tr style=\"text-align: right;\">\n",
       "      <th></th>\n",
       "      <th>Name</th>\n",
       "      <th>Years of Experience</th>\n",
       "      <th>Expertise</th>\n",
       "      <th>Other Expertise</th>\n",
       "      <th>Education</th>\n",
       "      <th>Level</th>\n",
       "      <th>Score</th>\n",
       "      <th>All_Experties</th>\n",
       "    </tr>\n",
       "  </thead>\n",
       "  <tbody>\n",
       "    <tr>\n",
       "      <th>0</th>\n",
       "      <td>Gurdeep Singh</td>\n",
       "      <td>19.0</td>\n",
       "      <td>Front End Developer</td>\n",
       "      <td>NumPy, Python, Javascript, Django, Selinium, P...</td>\n",
       "      <td>1</td>\n",
       "      <td>1</td>\n",
       "      <td>0.2</td>\n",
       "      <td>Front End Developer,NumPy, Python, Javascript,...</td>\n",
       "    </tr>\n",
       "    <tr>\n",
       "      <th>1</th>\n",
       "      <td>Muhammad Ehtisham</td>\n",
       "      <td>18.0</td>\n",
       "      <td>Import Manager</td>\n",
       "      <td>Shipping and Logistics</td>\n",
       "      <td>1</td>\n",
       "      <td>1</td>\n",
       "      <td>0.5</td>\n",
       "      <td>Import Manager,Shipping and Logistics</td>\n",
       "    </tr>\n",
       "    <tr>\n",
       "      <th>2</th>\n",
       "      <td>Syed Hussain</td>\n",
       "      <td>18.0</td>\n",
       "      <td>Assistant Admin</td>\n",
       "      <td>Sales Coordinator, Audit Trainee</td>\n",
       "      <td>1</td>\n",
       "      <td>1</td>\n",
       "      <td>0.5</td>\n",
       "      <td>Assistant Admin,Sales Coordinator, Audit Trainee</td>\n",
       "    </tr>\n",
       "    <tr>\n",
       "      <th>3</th>\n",
       "      <td>Muhammad Ehtisham</td>\n",
       "      <td>18.0</td>\n",
       "      <td>Import Manager</td>\n",
       "      <td>Shipping and Logistics</td>\n",
       "      <td>1</td>\n",
       "      <td>3</td>\n",
       "      <td>1.0</td>\n",
       "      <td>Import Manager,Shipping and Logistics</td>\n",
       "    </tr>\n",
       "    <tr>\n",
       "      <th>4</th>\n",
       "      <td>Syed Hussain</td>\n",
       "      <td>18.0</td>\n",
       "      <td>Assistant Admin</td>\n",
       "      <td>Sales Coordinator, Audit Trainee</td>\n",
       "      <td>1</td>\n",
       "      <td>3</td>\n",
       "      <td>1.0</td>\n",
       "      <td>Assistant Admin,Sales Coordinator, Audit Trainee</td>\n",
       "    </tr>\n",
       "    <tr>\n",
       "      <th>...</th>\n",
       "      <td>...</td>\n",
       "      <td>...</td>\n",
       "      <td>...</td>\n",
       "      <td>...</td>\n",
       "      <td>...</td>\n",
       "      <td>...</td>\n",
       "      <td>...</td>\n",
       "      <td>...</td>\n",
       "    </tr>\n",
       "    <tr>\n",
       "      <th>1044</th>\n",
       "      <td>Mirza Adil</td>\n",
       "      <td>1.0</td>\n",
       "      <td>Vanilla JS, Node JS, React JS, Java</td>\n",
       "      <td>SQL, CSS, HTML</td>\n",
       "      <td>0</td>\n",
       "      <td>0</td>\n",
       "      <td>9.9</td>\n",
       "      <td>Vanilla JS, Node JS, React JS, Java,SQL, CSS, ...</td>\n",
       "    </tr>\n",
       "    <tr>\n",
       "      <th>1045</th>\n",
       "      <td>Muhammad Yaseen</td>\n",
       "      <td>0.9</td>\n",
       "      <td>E-commerce Digital Marketing</td>\n",
       "      <td>SEO</td>\n",
       "      <td>0</td>\n",
       "      <td>0</td>\n",
       "      <td>9.9</td>\n",
       "      <td>E-commerce Digital Marketing,SEO</td>\n",
       "    </tr>\n",
       "    <tr>\n",
       "      <th>1046</th>\n",
       "      <td>Maaz Hussain Siddiqui</td>\n",
       "      <td>1.0</td>\n",
       "      <td>Application Developer</td>\n",
       "      <td>Javascript, PHP, MongoDB, ANdroid, SDK, Flutte...</td>\n",
       "      <td>0</td>\n",
       "      <td>0</td>\n",
       "      <td>10.0</td>\n",
       "      <td>Application Developer,Javascript, PHP, MongoDB...</td>\n",
       "    </tr>\n",
       "    <tr>\n",
       "      <th>1047</th>\n",
       "      <td>HashamUddin</td>\n",
       "      <td>1.0</td>\n",
       "      <td>Web Developer</td>\n",
       "      <td>HTML5, CSS, Javascript, Django</td>\n",
       "      <td>0</td>\n",
       "      <td>0</td>\n",
       "      <td>10.0</td>\n",
       "      <td>Web Developer,HTML5, CSS, Javascript, Django</td>\n",
       "    </tr>\n",
       "    <tr>\n",
       "      <th>1048</th>\n",
       "      <td>Sumaira Rafique</td>\n",
       "      <td>1.0</td>\n",
       "      <td>Front End Developer</td>\n",
       "      <td>CSS3, HTML5, Javascript, Java, PHP, TypeScript</td>\n",
       "      <td>0</td>\n",
       "      <td>0</td>\n",
       "      <td>10.0</td>\n",
       "      <td>Front End Developer,CSS3, HTML5, Javascript, J...</td>\n",
       "    </tr>\n",
       "  </tbody>\n",
       "</table>\n",
       "<p>1049 rows × 8 columns</p>\n",
       "</div>"
      ],
      "text/plain": [
       "                       Name  Years of Experience   \\\n",
       "0             Gurdeep Singh                  19.0   \n",
       "1         Muhammad Ehtisham                  18.0   \n",
       "2              Syed Hussain                  18.0   \n",
       "3         Muhammad Ehtisham                  18.0   \n",
       "4              Syed Hussain                  18.0   \n",
       "...                     ...                   ...   \n",
       "1044             Mirza Adil                   1.0   \n",
       "1045       Muhammad Yaseen                    0.9   \n",
       "1046  Maaz Hussain Siddiqui                   1.0   \n",
       "1047            HashamUddin                   1.0   \n",
       "1048        Sumaira Rafique                   1.0   \n",
       "\n",
       "                                Expertise  \\\n",
       "0                     Front End Developer   \n",
       "1                          Import Manager   \n",
       "2                         Assistant Admin   \n",
       "3                          Import Manager   \n",
       "4                         Assistant Admin   \n",
       "...                                   ...   \n",
       "1044  Vanilla JS, Node JS, React JS, Java   \n",
       "1045         E-commerce Digital Marketing   \n",
       "1046                Application Developer   \n",
       "1047                        Web Developer   \n",
       "1048                  Front End Developer   \n",
       "\n",
       "                                        Other Expertise  Education  Level  \\\n",
       "0     NumPy, Python, Javascript, Django, Selinium, P...          1      1   \n",
       "1                                Shipping and Logistics          1      1   \n",
       "2                      Sales Coordinator, Audit Trainee          1      1   \n",
       "3                                Shipping and Logistics          1      3   \n",
       "4                      Sales Coordinator, Audit Trainee          1      3   \n",
       "...                                                 ...        ...    ...   \n",
       "1044                                     SQL, CSS, HTML          0      0   \n",
       "1045                                                SEO          0      0   \n",
       "1046  Javascript, PHP, MongoDB, ANdroid, SDK, Flutte...          0      0   \n",
       "1047                     HTML5, CSS, Javascript, Django          0      0   \n",
       "1048     CSS3, HTML5, Javascript, Java, PHP, TypeScript          0      0   \n",
       "\n",
       "      Score                                      All_Experties  \n",
       "0       0.2  Front End Developer,NumPy, Python, Javascript,...  \n",
       "1       0.5              Import Manager,Shipping and Logistics  \n",
       "2       0.5   Assistant Admin,Sales Coordinator, Audit Trainee  \n",
       "3       1.0              Import Manager,Shipping and Logistics  \n",
       "4       1.0   Assistant Admin,Sales Coordinator, Audit Trainee  \n",
       "...     ...                                                ...  \n",
       "1044    9.9  Vanilla JS, Node JS, React JS, Java,SQL, CSS, ...  \n",
       "1045    9.9                   E-commerce Digital Marketing,SEO  \n",
       "1046   10.0  Application Developer,Javascript, PHP, MongoDB...  \n",
       "1047   10.0       Web Developer,HTML5, CSS, Javascript, Django  \n",
       "1048   10.0  Front End Developer,CSS3, HTML5, Javascript, J...  \n",
       "\n",
       "[1049 rows x 8 columns]"
      ]
     },
     "execution_count": 161,
     "metadata": {},
     "output_type": "execute_result"
    }
   ],
   "source": [
    "data"
   ]
  },
  {
   "cell_type": "code",
   "execution_count": 162,
   "id": "5cb6260d",
   "metadata": {},
   "outputs": [],
   "source": [
    "# data[\"All_Experties\"].value_counts()\n",
    "data[\"All_Experties_Count\"] = data[['Expertise','Other Expertise']].apply(lambda x : len('{},{}'.format(x[0],x[1]).split(\",\")), axis=1)\n"
   ]
  },
  {
   "cell_type": "code",
   "execution_count": 163,
   "id": "31c8e9ad",
   "metadata": {},
   "outputs": [
    {
     "data": {
      "text/html": [
       "<div>\n",
       "<style scoped>\n",
       "    .dataframe tbody tr th:only-of-type {\n",
       "        vertical-align: middle;\n",
       "    }\n",
       "\n",
       "    .dataframe tbody tr th {\n",
       "        vertical-align: top;\n",
       "    }\n",
       "\n",
       "    .dataframe thead th {\n",
       "        text-align: right;\n",
       "    }\n",
       "</style>\n",
       "<table border=\"1\" class=\"dataframe\">\n",
       "  <thead>\n",
       "    <tr style=\"text-align: right;\">\n",
       "      <th></th>\n",
       "      <th>Name</th>\n",
       "      <th>Years of Experience</th>\n",
       "      <th>Expertise</th>\n",
       "      <th>Other Expertise</th>\n",
       "      <th>Education</th>\n",
       "      <th>Level</th>\n",
       "      <th>Score</th>\n",
       "      <th>All_Experties</th>\n",
       "      <th>All_Experties_Count</th>\n",
       "    </tr>\n",
       "  </thead>\n",
       "  <tbody>\n",
       "    <tr>\n",
       "      <th>0</th>\n",
       "      <td>Gurdeep Singh</td>\n",
       "      <td>19.0</td>\n",
       "      <td>Front End Developer</td>\n",
       "      <td>NumPy, Python, Javascript, Django, Selinium, P...</td>\n",
       "      <td>1</td>\n",
       "      <td>1</td>\n",
       "      <td>0.2</td>\n",
       "      <td>Front End Developer,NumPy, Python, Javascript,...</td>\n",
       "      <td>7</td>\n",
       "    </tr>\n",
       "    <tr>\n",
       "      <th>1</th>\n",
       "      <td>Muhammad Ehtisham</td>\n",
       "      <td>18.0</td>\n",
       "      <td>Import Manager</td>\n",
       "      <td>Shipping and Logistics</td>\n",
       "      <td>1</td>\n",
       "      <td>1</td>\n",
       "      <td>0.5</td>\n",
       "      <td>Import Manager,Shipping and Logistics</td>\n",
       "      <td>2</td>\n",
       "    </tr>\n",
       "    <tr>\n",
       "      <th>2</th>\n",
       "      <td>Syed Hussain</td>\n",
       "      <td>18.0</td>\n",
       "      <td>Assistant Admin</td>\n",
       "      <td>Sales Coordinator, Audit Trainee</td>\n",
       "      <td>1</td>\n",
       "      <td>1</td>\n",
       "      <td>0.5</td>\n",
       "      <td>Assistant Admin,Sales Coordinator, Audit Trainee</td>\n",
       "      <td>3</td>\n",
       "    </tr>\n",
       "    <tr>\n",
       "      <th>3</th>\n",
       "      <td>Muhammad Ehtisham</td>\n",
       "      <td>18.0</td>\n",
       "      <td>Import Manager</td>\n",
       "      <td>Shipping and Logistics</td>\n",
       "      <td>1</td>\n",
       "      <td>3</td>\n",
       "      <td>1.0</td>\n",
       "      <td>Import Manager,Shipping and Logistics</td>\n",
       "      <td>2</td>\n",
       "    </tr>\n",
       "    <tr>\n",
       "      <th>4</th>\n",
       "      <td>Syed Hussain</td>\n",
       "      <td>18.0</td>\n",
       "      <td>Assistant Admin</td>\n",
       "      <td>Sales Coordinator, Audit Trainee</td>\n",
       "      <td>1</td>\n",
       "      <td>3</td>\n",
       "      <td>1.0</td>\n",
       "      <td>Assistant Admin,Sales Coordinator, Audit Trainee</td>\n",
       "      <td>3</td>\n",
       "    </tr>\n",
       "    <tr>\n",
       "      <th>...</th>\n",
       "      <td>...</td>\n",
       "      <td>...</td>\n",
       "      <td>...</td>\n",
       "      <td>...</td>\n",
       "      <td>...</td>\n",
       "      <td>...</td>\n",
       "      <td>...</td>\n",
       "      <td>...</td>\n",
       "      <td>...</td>\n",
       "    </tr>\n",
       "    <tr>\n",
       "      <th>1044</th>\n",
       "      <td>Mirza Adil</td>\n",
       "      <td>1.0</td>\n",
       "      <td>Vanilla JS, Node JS, React JS, Java</td>\n",
       "      <td>SQL, CSS, HTML</td>\n",
       "      <td>0</td>\n",
       "      <td>0</td>\n",
       "      <td>9.9</td>\n",
       "      <td>Vanilla JS, Node JS, React JS, Java,SQL, CSS, ...</td>\n",
       "      <td>7</td>\n",
       "    </tr>\n",
       "    <tr>\n",
       "      <th>1045</th>\n",
       "      <td>Muhammad Yaseen</td>\n",
       "      <td>0.9</td>\n",
       "      <td>E-commerce Digital Marketing</td>\n",
       "      <td>SEO</td>\n",
       "      <td>0</td>\n",
       "      <td>0</td>\n",
       "      <td>9.9</td>\n",
       "      <td>E-commerce Digital Marketing,SEO</td>\n",
       "      <td>2</td>\n",
       "    </tr>\n",
       "    <tr>\n",
       "      <th>1046</th>\n",
       "      <td>Maaz Hussain Siddiqui</td>\n",
       "      <td>1.0</td>\n",
       "      <td>Application Developer</td>\n",
       "      <td>Javascript, PHP, MongoDB, ANdroid, SDK, Flutte...</td>\n",
       "      <td>0</td>\n",
       "      <td>0</td>\n",
       "      <td>10.0</td>\n",
       "      <td>Application Developer,Javascript, PHP, MongoDB...</td>\n",
       "      <td>11</td>\n",
       "    </tr>\n",
       "    <tr>\n",
       "      <th>1047</th>\n",
       "      <td>HashamUddin</td>\n",
       "      <td>1.0</td>\n",
       "      <td>Web Developer</td>\n",
       "      <td>HTML5, CSS, Javascript, Django</td>\n",
       "      <td>0</td>\n",
       "      <td>0</td>\n",
       "      <td>10.0</td>\n",
       "      <td>Web Developer,HTML5, CSS, Javascript, Django</td>\n",
       "      <td>5</td>\n",
       "    </tr>\n",
       "    <tr>\n",
       "      <th>1048</th>\n",
       "      <td>Sumaira Rafique</td>\n",
       "      <td>1.0</td>\n",
       "      <td>Front End Developer</td>\n",
       "      <td>CSS3, HTML5, Javascript, Java, PHP, TypeScript</td>\n",
       "      <td>0</td>\n",
       "      <td>0</td>\n",
       "      <td>10.0</td>\n",
       "      <td>Front End Developer,CSS3, HTML5, Javascript, J...</td>\n",
       "      <td>7</td>\n",
       "    </tr>\n",
       "  </tbody>\n",
       "</table>\n",
       "<p>1049 rows × 9 columns</p>\n",
       "</div>"
      ],
      "text/plain": [
       "                       Name  Years of Experience   \\\n",
       "0             Gurdeep Singh                  19.0   \n",
       "1         Muhammad Ehtisham                  18.0   \n",
       "2              Syed Hussain                  18.0   \n",
       "3         Muhammad Ehtisham                  18.0   \n",
       "4              Syed Hussain                  18.0   \n",
       "...                     ...                   ...   \n",
       "1044             Mirza Adil                   1.0   \n",
       "1045       Muhammad Yaseen                    0.9   \n",
       "1046  Maaz Hussain Siddiqui                   1.0   \n",
       "1047            HashamUddin                   1.0   \n",
       "1048        Sumaira Rafique                   1.0   \n",
       "\n",
       "                                Expertise  \\\n",
       "0                     Front End Developer   \n",
       "1                          Import Manager   \n",
       "2                         Assistant Admin   \n",
       "3                          Import Manager   \n",
       "4                         Assistant Admin   \n",
       "...                                   ...   \n",
       "1044  Vanilla JS, Node JS, React JS, Java   \n",
       "1045         E-commerce Digital Marketing   \n",
       "1046                Application Developer   \n",
       "1047                        Web Developer   \n",
       "1048                  Front End Developer   \n",
       "\n",
       "                                        Other Expertise  Education  Level  \\\n",
       "0     NumPy, Python, Javascript, Django, Selinium, P...          1      1   \n",
       "1                                Shipping and Logistics          1      1   \n",
       "2                      Sales Coordinator, Audit Trainee          1      1   \n",
       "3                                Shipping and Logistics          1      3   \n",
       "4                      Sales Coordinator, Audit Trainee          1      3   \n",
       "...                                                 ...        ...    ...   \n",
       "1044                                     SQL, CSS, HTML          0      0   \n",
       "1045                                                SEO          0      0   \n",
       "1046  Javascript, PHP, MongoDB, ANdroid, SDK, Flutte...          0      0   \n",
       "1047                     HTML5, CSS, Javascript, Django          0      0   \n",
       "1048     CSS3, HTML5, Javascript, Java, PHP, TypeScript          0      0   \n",
       "\n",
       "      Score                                      All_Experties  \\\n",
       "0       0.2  Front End Developer,NumPy, Python, Javascript,...   \n",
       "1       0.5              Import Manager,Shipping and Logistics   \n",
       "2       0.5   Assistant Admin,Sales Coordinator, Audit Trainee   \n",
       "3       1.0              Import Manager,Shipping and Logistics   \n",
       "4       1.0   Assistant Admin,Sales Coordinator, Audit Trainee   \n",
       "...     ...                                                ...   \n",
       "1044    9.9  Vanilla JS, Node JS, React JS, Java,SQL, CSS, ...   \n",
       "1045    9.9                   E-commerce Digital Marketing,SEO   \n",
       "1046   10.0  Application Developer,Javascript, PHP, MongoDB...   \n",
       "1047   10.0       Web Developer,HTML5, CSS, Javascript, Django   \n",
       "1048   10.0  Front End Developer,CSS3, HTML5, Javascript, J...   \n",
       "\n",
       "      All_Experties_Count  \n",
       "0                       7  \n",
       "1                       2  \n",
       "2                       3  \n",
       "3                       2  \n",
       "4                       3  \n",
       "...                   ...  \n",
       "1044                    7  \n",
       "1045                    2  \n",
       "1046                   11  \n",
       "1047                    5  \n",
       "1048                    7  \n",
       "\n",
       "[1049 rows x 9 columns]"
      ]
     },
     "execution_count": 163,
     "metadata": {},
     "output_type": "execute_result"
    }
   ],
   "source": [
    "data"
   ]
  },
  {
   "cell_type": "code",
   "execution_count": 164,
   "id": "98596548",
   "metadata": {},
   "outputs": [],
   "source": [
    "df = data.copy()"
   ]
  },
  {
   "cell_type": "code",
   "execution_count": 165,
   "id": "c3db6f93",
   "metadata": {},
   "outputs": [],
   "source": [
    "df.drop(['Name', 'Expertise', 'Other Expertise', 'All_Experties'], axis=1, inplace=True)"
   ]
  },
  {
   "cell_type": "code",
   "execution_count": 166,
   "id": "42c1f770",
   "metadata": {},
   "outputs": [
    {
     "data": {
      "text/html": [
       "<div>\n",
       "<style scoped>\n",
       "    .dataframe tbody tr th:only-of-type {\n",
       "        vertical-align: middle;\n",
       "    }\n",
       "\n",
       "    .dataframe tbody tr th {\n",
       "        vertical-align: top;\n",
       "    }\n",
       "\n",
       "    .dataframe thead th {\n",
       "        text-align: right;\n",
       "    }\n",
       "</style>\n",
       "<table border=\"1\" class=\"dataframe\">\n",
       "  <thead>\n",
       "    <tr style=\"text-align: right;\">\n",
       "      <th></th>\n",
       "      <th>Years of Experience</th>\n",
       "      <th>Education</th>\n",
       "      <th>Level</th>\n",
       "      <th>Score</th>\n",
       "      <th>All_Experties_Count</th>\n",
       "    </tr>\n",
       "  </thead>\n",
       "  <tbody>\n",
       "    <tr>\n",
       "      <th>0</th>\n",
       "      <td>19.0</td>\n",
       "      <td>1</td>\n",
       "      <td>1</td>\n",
       "      <td>0.2</td>\n",
       "      <td>7</td>\n",
       "    </tr>\n",
       "    <tr>\n",
       "      <th>1</th>\n",
       "      <td>18.0</td>\n",
       "      <td>1</td>\n",
       "      <td>1</td>\n",
       "      <td>0.5</td>\n",
       "      <td>2</td>\n",
       "    </tr>\n",
       "    <tr>\n",
       "      <th>2</th>\n",
       "      <td>18.0</td>\n",
       "      <td>1</td>\n",
       "      <td>1</td>\n",
       "      <td>0.5</td>\n",
       "      <td>3</td>\n",
       "    </tr>\n",
       "    <tr>\n",
       "      <th>3</th>\n",
       "      <td>18.0</td>\n",
       "      <td>1</td>\n",
       "      <td>3</td>\n",
       "      <td>1.0</td>\n",
       "      <td>2</td>\n",
       "    </tr>\n",
       "    <tr>\n",
       "      <th>4</th>\n",
       "      <td>18.0</td>\n",
       "      <td>1</td>\n",
       "      <td>3</td>\n",
       "      <td>1.0</td>\n",
       "      <td>3</td>\n",
       "    </tr>\n",
       "    <tr>\n",
       "      <th>...</th>\n",
       "      <td>...</td>\n",
       "      <td>...</td>\n",
       "      <td>...</td>\n",
       "      <td>...</td>\n",
       "      <td>...</td>\n",
       "    </tr>\n",
       "    <tr>\n",
       "      <th>1044</th>\n",
       "      <td>1.0</td>\n",
       "      <td>0</td>\n",
       "      <td>0</td>\n",
       "      <td>9.9</td>\n",
       "      <td>7</td>\n",
       "    </tr>\n",
       "    <tr>\n",
       "      <th>1045</th>\n",
       "      <td>0.9</td>\n",
       "      <td>0</td>\n",
       "      <td>0</td>\n",
       "      <td>9.9</td>\n",
       "      <td>2</td>\n",
       "    </tr>\n",
       "    <tr>\n",
       "      <th>1046</th>\n",
       "      <td>1.0</td>\n",
       "      <td>0</td>\n",
       "      <td>0</td>\n",
       "      <td>10.0</td>\n",
       "      <td>11</td>\n",
       "    </tr>\n",
       "    <tr>\n",
       "      <th>1047</th>\n",
       "      <td>1.0</td>\n",
       "      <td>0</td>\n",
       "      <td>0</td>\n",
       "      <td>10.0</td>\n",
       "      <td>5</td>\n",
       "    </tr>\n",
       "    <tr>\n",
       "      <th>1048</th>\n",
       "      <td>1.0</td>\n",
       "      <td>0</td>\n",
       "      <td>0</td>\n",
       "      <td>10.0</td>\n",
       "      <td>7</td>\n",
       "    </tr>\n",
       "  </tbody>\n",
       "</table>\n",
       "<p>1049 rows × 5 columns</p>\n",
       "</div>"
      ],
      "text/plain": [
       "      Years of Experience   Education  Level  Score  All_Experties_Count\n",
       "0                     19.0          1      1    0.2                    7\n",
       "1                     18.0          1      1    0.5                    2\n",
       "2                     18.0          1      1    0.5                    3\n",
       "3                     18.0          1      3    1.0                    2\n",
       "4                     18.0          1      3    1.0                    3\n",
       "...                    ...        ...    ...    ...                  ...\n",
       "1044                   1.0          0      0    9.9                    7\n",
       "1045                   0.9          0      0    9.9                    2\n",
       "1046                   1.0          0      0   10.0                   11\n",
       "1047                   1.0          0      0   10.0                    5\n",
       "1048                   1.0          0      0   10.0                    7\n",
       "\n",
       "[1049 rows x 5 columns]"
      ]
     },
     "execution_count": 166,
     "metadata": {},
     "output_type": "execute_result"
    }
   ],
   "source": [
    "df"
   ]
  },
  {
   "cell_type": "code",
   "execution_count": 167,
   "id": "2bbd8b3d",
   "metadata": {},
   "outputs": [],
   "source": [
    "X = df.loc[:, df.columns!='Score']\n",
    "y = df[\"Score\"]"
   ]
  },
  {
   "cell_type": "code",
   "execution_count": 172,
   "id": "2e437b4a",
   "metadata": {},
   "outputs": [
    {
     "data": {
      "text/plain": [
       "LinearRegression()"
      ]
     },
     "execution_count": 172,
     "metadata": {},
     "output_type": "execute_result"
    }
   ],
   "source": [
    "from sklearn import linear_model\n",
    "reg = linear_model.LinearRegression()\n",
    "reg.fit(X, y)"
   ]
  },
  {
   "cell_type": "code",
   "execution_count": 186,
   "id": "8c0527a7",
   "metadata": {},
   "outputs": [
    {
     "name": "stdout",
     "output_type": "stream",
     "text": [
      "Coefficients: \n",
      " [-0.12783646  1.01984057 -0.23734029  0.00694231]\n"
     ]
    }
   ],
   "source": [
    "print(\"Coefficients: \\n\", reg.coef_)"
   ]
  },
  {
   "cell_type": "markdown",
   "id": "fbc76cd9",
   "metadata": {},
   "source": [
    "### Model Input Sequence\n",
    "\n",
    "1. Years of Experience \n",
    "\n",
    "2. Education: \"Undergrad\":0, \"Bachelors\":1, \"Masters\":2, \"PhD\":3\n",
    "\n",
    "3. Level: \"Internship\":0, \"Fresh\":1, \"Mid\":2, \"Senior\":3, \"Expert\":4\n",
    "\n",
    "4. Experties Count"
   ]
  },
  {
   "cell_type": "code",
   "execution_count": 184,
   "id": "9d4171f2",
   "metadata": {},
   "outputs": [
    {
     "data": {
      "text/plain": [
       "array([6.50968674])"
      ]
     },
     "execution_count": 184,
     "metadata": {},
     "output_type": "execute_result"
    }
   ],
   "source": [
    "reg.predict([[0,1,0,4]]) # 0 exp, graduated, applying for internship, 4 experties"
   ]
  },
  {
   "cell_type": "code",
   "execution_count": 185,
   "id": "d264e83f",
   "metadata": {},
   "outputs": [
    {
     "data": {
      "text/plain": [
       "array([6.25401382])"
      ]
     },
     "execution_count": 185,
     "metadata": {},
     "output_type": "execute_result"
    }
   ],
   "source": [
    "# Same person with 2 years experience scored less than fresh student\n",
    "reg.predict([[2,1,0,4]]) "
   ]
  },
  {
   "cell_type": "code",
   "execution_count": 192,
   "id": "89100a81",
   "metadata": {},
   "outputs": [
    {
     "data": {
      "text/plain": [
       "array([5.30465267])"
      ]
     },
     "execution_count": 192,
     "metadata": {},
     "output_type": "execute_result"
    }
   ],
   "source": [
    "reg.predict([[2,1,4,4]])"
   ]
  },
  {
   "cell_type": "markdown",
   "id": "2605b268",
   "metadata": {},
   "source": [
    "## Polynomial regression: extending linear models with basis functions"
   ]
  },
  {
   "cell_type": "code",
   "execution_count": 193,
   "id": "5f61e800",
   "metadata": {},
   "outputs": [
    {
     "data": {
      "text/plain": [
       "array([ 5.31725133e+00, -4.85940459e-01,  1.60892661e-01,  4.60931289e+00,\n",
       "        3.64366658e-01, -1.16664856e-02, -1.65172152e-01,  1.76351080e-01,\n",
       "       -7.20583778e-02,  1.16121368e+00,  1.40297223e+00, -1.96160889e-01,\n",
       "       -3.06083713e+00, -2.89134933e-01,  2.41078026e-02,  2.06663262e-03,\n",
       "       -1.15925693e-02, -2.21600108e-02, -1.91150311e-03,  7.70239968e-02,\n",
       "        1.92205812e-02,  5.12181129e-02,  1.10390666e-01, -8.73984146e-04,\n",
       "        7.39719399e-03, -5.45218966e-01, -1.21760684e-01,  3.29451800e-02,\n",
       "       -3.31029463e-01,  1.00596325e-01, -2.76534421e-02,  3.88321306e-01,\n",
       "        3.18583065e-02,  5.51594973e-03, -2.43488042e-03])"
      ]
     },
     "execution_count": 193,
     "metadata": {},
     "output_type": "execute_result"
    }
   ],
   "source": [
    "from sklearn.preprocessing import PolynomialFeatures\n",
    "from sklearn.linear_model import LinearRegression\n",
    "from sklearn.pipeline import Pipeline\n",
    "model = Pipeline([('poly', PolynomialFeatures(degree=3)),\n",
    "                   ('linear', LinearRegression(fit_intercept=False))])\n",
    "# fit to an order-3 polynomial data\n",
    "model = model.fit(X, y)\n",
    "model.named_steps['linear'].coef_"
   ]
  },
  {
   "cell_type": "code",
   "execution_count": 202,
   "id": "09b0e3de",
   "metadata": {},
   "outputs": [
    {
     "data": {
      "text/plain": [
       "array([6.68617992])"
      ]
     },
     "execution_count": 202,
     "metadata": {},
     "output_type": "execute_result"
    }
   ],
   "source": [
    "model.predict([[0,1,0,4]]) # 0 exp, graduated, applying for internship, 4 experties"
   ]
  },
  {
   "cell_type": "code",
   "execution_count": 205,
   "id": "2cc33376",
   "metadata": {},
   "outputs": [
    {
     "data": {
      "text/plain": [
       "array([5.50090357])"
      ]
     },
     "execution_count": 205,
     "metadata": {},
     "output_type": "execute_result"
    }
   ],
   "source": [
    "# Same person with 2 years experience scored less than fresh student\n",
    "model.predict([[2,1,0,4]]) "
   ]
  },
  {
   "cell_type": "code",
   "execution_count": 197,
   "id": "68e2c827",
   "metadata": {},
   "outputs": [
    {
     "data": {
      "text/plain": [
       "array([5.5712861])"
      ]
     },
     "execution_count": 197,
     "metadata": {},
     "output_type": "execute_result"
    }
   ],
   "source": [
    "model.predict([[3,2,4,4]])"
   ]
  },
  {
   "cell_type": "code",
   "execution_count": 206,
   "id": "489cd58e",
   "metadata": {},
   "outputs": [],
   "source": [
    "import pickle\n",
    "pickle.dump(model, open(\"finalized_model.sav\", 'wb'))"
   ]
  },
  {
   "cell_type": "code",
   "execution_count": 207,
   "id": "f3c305ff",
   "metadata": {},
   "outputs": [],
   "source": [
    "loaded_model = pickle.load(open(\"finalized_model.sav\", 'rb'))"
   ]
  },
  {
   "cell_type": "code",
   "execution_count": 208,
   "id": "f239ec0b",
   "metadata": {},
   "outputs": [
    {
     "data": {
      "text/plain": [
       "array([5.50090357])"
      ]
     },
     "execution_count": 208,
     "metadata": {},
     "output_type": "execute_result"
    }
   ],
   "source": [
    "loaded_model.predict([[2,1,0,4]]) "
   ]
  },
  {
   "cell_type": "code",
   "execution_count": null,
   "id": "92401170",
   "metadata": {},
   "outputs": [],
   "source": []
  }
 ],
 "metadata": {
  "kernelspec": {
   "display_name": "Python 3",
   "language": "python",
   "name": "python3"
  },
  "language_info": {
   "codemirror_mode": {
    "name": "ipython",
    "version": 3
   },
   "file_extension": ".py",
   "mimetype": "text/x-python",
   "name": "python",
   "nbconvert_exporter": "python",
   "pygments_lexer": "ipython3",
   "version": "3.8.11"
  }
 },
 "nbformat": 4,
 "nbformat_minor": 5
}
